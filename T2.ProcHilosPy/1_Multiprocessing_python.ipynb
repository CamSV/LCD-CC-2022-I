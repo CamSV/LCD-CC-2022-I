{
  "nbformat": 4,
  "nbformat_minor": 0,
  "metadata": {
    "colab": {
      "name": "1-Multiprocessing-python.ipynb",
      "provenance": []
    },
    "kernelspec": {
      "name": "python3",
      "display_name": "Python 3"
    },
    "language_info": {
      "name": "python"
    }
  },
  "cells": [
    {
      "cell_type": "markdown",
      "metadata": {
        "id": "83-smIgmJbdI"
      },
      "source": [
        "# **Multiprocessing**\n",
        "`multiprocessing` es un paquete de Python que permite la creación de procesos y ofrece concurrencia local.\n",
        "\n",
        "Una manera sencilla de crear un proceso es por medio de la construcción de un objeto de tipo Process e invocarlo por medio del método `start()`."
      ]
    },
    {
      "cell_type": "code",
      "metadata": {
        "colab": {
          "base_uri": "https://localhost:8080/"
        },
        "id": "oe7LvxUtH3Sc",
        "outputId": "306e8fdd-b2b4-4684-c4b6-99314767990a"
      },
      "source": [
        "import multiprocessing as mp \n",
        "\n",
        "def tarea(name):\n",
        "    print(\"Hola\", name)\n",
        "\n",
        "if __name__ == '__main__':\n",
        "    p = mp.Process(target=tarea, args=('CamSV',))\n",
        "    p.start() # Invocamos el proceso\n",
        "    p.join() # Unimos al padre"
      ],
      "execution_count": 1,
      "outputs": [
        {
          "output_type": "stream",
          "name": "stdout",
          "text": [
            "Hola CamSV\n"
          ]
        }
      ]
    },
    {
      "cell_type": "markdown",
      "metadata": {
        "id": "jbiVetnHJ2jM"
      },
      "source": [
        "**Ejemplo 2**\n",
        "\n",
        "*   La comunicación entre procesos es transparente.\n",
        "*   Repartición de tarea"
      ]
    },
    {
      "cell_type": "code",
      "metadata": {
        "colab": {
          "base_uri": "https://localhost:8080/"
        },
        "id": "itxRhGzOKKPF",
        "outputId": "3aee70f8-144f-472a-d670-80d779072570"
      },
      "source": [
        "import multiprocessing as mp \n",
        "import time\n",
        "\n",
        "def calc_cuad(numeros):\n",
        "    print(\"Calcula el cuadrado de los números\")\n",
        "    for n in numeros:\n",
        "        print(\"cuadrado:\", n * n)\n",
        "\n",
        "nums = range(10)\n",
        "t = time.time()\n",
        "p1 = mp.Process(target=calc_cuad, args=(nums,))\n",
        "# Empezar el proceso\n",
        "p1.start()\n",
        "# Va regresar a la ejecucion al padre\n",
        "p1.join() \n",
        "\n",
        "print(\"Tiempo de ejecución: \", time.time() -t)\n",
        "print(\"Finaliza la ejecución\")"
      ],
      "execution_count": 2,
      "outputs": [
        {
          "output_type": "stream",
          "name": "stdout",
          "text": [
            "Calcula el cuadrado de los números\n",
            "cuadrado: 0\n",
            "cuadrado: 1\n",
            "cuadrado: 4\n",
            "cuadrado: 9\n",
            "cuadrado: 16\n",
            "cuadrado: 25\n",
            "cuadrado: 36\n",
            "cuadrado: 49\n",
            "cuadrado: 64\n",
            "cuadrado: 81\n",
            "Tiempo de ejecución:  0.04594755172729492\n",
            "Finaliza la ejecución\n"
          ]
        }
      ]
    },
    {
      "cell_type": "markdown",
      "metadata": {
        "id": "w4Ot3-6GKVLM"
      },
      "source": [
        "**Ejercicio 3**\n",
        "Crea otro proceso P2 que calcule el cubo de el mismo conjunto de números nums y mándalos a escribir:"
      ]
    },
    {
      "cell_type": "code",
      "metadata": {
        "colab": {
          "base_uri": "https://localhost:8080/"
        },
        "id": "dyWBeFmXKcvB",
        "outputId": "d9ca9843-09d7-4bd0-cccf-005f94a35d38"
      },
      "source": [
        "def calc_cubos(nums):\n",
        "    print('Calcula el cubo de los números')\n",
        "    for num in nums:\n",
        "        print('cubo:', num ** 3)\n",
        "\n",
        "nums = range(5)\n",
        "p1 = mp.Process(target=calc_cuad, args=(nums,))\n",
        "p2 = mp.Process(target=calc_cubos, args=(nums,))\n",
        "p1.start()\n",
        "p2.start()\n",
        "# join hace que le proceso principal espere hasta que pn haya terminado y se una con el main process\n",
        "p1.join()\n",
        "p2.join()\n",
        "print('Termina la ejecución númerica')"
      ],
      "execution_count": 3,
      "outputs": [
        {
          "output_type": "stream",
          "name": "stdout",
          "text": [
            "Calcula el cuadrado de los números\n",
            "Calcula el cubo de los números\n",
            "cubo: 0\n",
            "cubo: 1\n",
            "cuadrado: 0\n",
            "cuadrado: 1\n",
            "cuadrado: 4\n",
            "cubo: 8\n",
            "cubo: 27\n",
            "cuadrado: 9\n",
            "cubo: 64\n",
            "cuadrado: 16\n",
            "Termina la ejecución númerica\n"
          ]
        }
      ]
    },
    {
      "cell_type": "markdown",
      "metadata": {
        "id": "k56lOoXeKo1X"
      },
      "source": [
        "Al no colocarse de manera correcta los **joins**, se hace una ejecución secuencial (hace una tarea, la termina e inicia la siguente."
      ]
    },
    {
      "cell_type": "code",
      "metadata": {
        "colab": {
          "base_uri": "https://localhost:8080/"
        },
        "id": "h9lpbErFKpaD",
        "outputId": "e8e0d213-ad88-45b2-ad63-c3b662f6695f"
      },
      "source": [
        "def calc_cubos(nums):\n",
        "    print('Calcula el cubo de los números')\n",
        "    for num in nums:\n",
        "        print('cubo:', num ** 3)\n",
        "\n",
        "nums = range(5)\n",
        "p1 = mp.Process(target=calc_cuad, args=(nums,))\n",
        "p2 = mp.Process(target=calc_cubos, args=(nums,))\n",
        "p1.start()\n",
        "p1.join()\n",
        "p2.start()\n",
        "# join hace que le proceso principal espere hasta que p1 haya terminado y se una con el main process\n",
        "p2.join()\n",
        "print('Termina la ejecución númerica')"
      ],
      "execution_count": 4,
      "outputs": [
        {
          "output_type": "stream",
          "name": "stdout",
          "text": [
            "Calcula el cuadrado de los números\n",
            "cuadrado: 0\n",
            "cuadrado: 1\n",
            "cuadrado: 4\n",
            "cuadrado: 9\n",
            "cuadrado: 16\n",
            "Calcula el cubo de los números\n",
            "cubo: 0\n",
            "cubo: 1\n",
            "cubo: 8\n",
            "cubo: 27\n",
            "cubo: 64\n",
            "Termina la ejecución númerica\n"
          ]
        }
      ]
    },
    {
      "cell_type": "markdown",
      "metadata": {
        "id": "Ac9h7xEjLHKd"
      },
      "source": [
        "**Ejercicio 4**\n",
        "*   Calcula el cuadrado y el cubo de un arreglo de tamaño 100 de manera secuencial con funciones y calcula su tiempo de ejecución con time.time().\n",
        "*   Calcula el cuadrado y el cubo usando procesos y calcula el tiempo de ejecución.\n",
        "*   Calcula el cuadrado y el cubo usando procesos y varia el start y join de los procesos, calcula el tiempo de ejecución.\n",
        "\n",
        "El procesador ejecuta, pero no ocupa un espacio de procesamiento que no es utilizado.\n",
        "\n"
      ]
    },
    {
      "cell_type": "code",
      "metadata": {
        "colab": {
          "base_uri": "https://localhost:8080/"
        },
        "id": "sgLkK6TWLioM",
        "outputId": "c8e62c6c-e7ef-4e9a-ff1f-5fbdf88eddbe"
      },
      "source": [
        "import multiprocessing as mp\n",
        "import time\n",
        "\n",
        "def calc_cuad(numeros):\n",
        "    print(\"Calcula el cuadrado de los números\")\n",
        "    for n in numeros:\n",
        "        time.sleep(0.2)\n",
        "        print(\"cuadrado:\", n * n)\n",
        "        \n",
        "def calc_cubos(nums):\n",
        "    print('Calcula el cubo de los números')\n",
        "    for num in nums:\n",
        "        time.sleep(0.2)\n",
        "        print('cubo:', num ** 3)\n",
        "\n",
        "nums = range(5)\n",
        "t = time.time()\n",
        "calc_cuad(nums)\n",
        "calc_cubos(nums)\n",
        "\n",
        "print(\"Tiempo de ejecución: \", time.time() -t)\n",
        "print(\"Finaliza la ejecución\")"
      ],
      "execution_count": 5,
      "outputs": [
        {
          "output_type": "stream",
          "name": "stdout",
          "text": [
            "Calcula el cuadrado de los números\n",
            "cuadrado: 0\n",
            "cuadrado: 1\n",
            "cuadrado: 4\n",
            "cuadrado: 9\n",
            "cuadrado: 16\n",
            "Calcula el cubo de los números\n",
            "cubo: 0\n",
            "cubo: 1\n",
            "cubo: 8\n",
            "cubo: 27\n",
            "cubo: 64\n",
            "Tiempo de ejecución:  2.0106992721557617\n",
            "Finaliza la ejecución\n"
          ]
        }
      ]
    },
    {
      "cell_type": "markdown",
      "metadata": {
        "id": "889LAmR4Lvzo"
      },
      "source": [
        "De manera concurrente, hace un cambio de contexto ocupando todo el espcacio de procesamiento, obliga un uso optimo de los procesos."
      ]
    },
    {
      "cell_type": "code",
      "metadata": {
        "colab": {
          "base_uri": "https://localhost:8080/"
        },
        "id": "fxl6G0b1Lxpq",
        "outputId": "193fa774-54fc-4aae-a199-9f4daa1eaff4"
      },
      "source": [
        "import multiprocessing as mp\n",
        "import time\n",
        "\n",
        "def calc_cuad(numeros):\n",
        "    print(\"Calcula el cuadrado de los números\")\n",
        "    for n in numeros:\n",
        "        time.sleep(0.2)\n",
        "        print(\"cuadrado:\", n * n)\n",
        "        \n",
        "def calc_cubos(nums):\n",
        "    print('Calcula el cubo de los números')\n",
        "    for num in nums:\n",
        "        time.sleep(0.2)\n",
        "        print('cubo:', num ** 3)\n",
        "\n",
        "t = time.time()\n",
        "nums = range(5)\n",
        "p1 = mp.Process(target=calc_cuad, args=(nums,))\n",
        "p2 = mp.Process(target=calc_cubos, args=(nums,))\n",
        "\n",
        "p1.start()\n",
        "p2.start()\n",
        "\n",
        "p1.join()\n",
        "p2.join()\n",
        "\n",
        "print(\"Tiempo de ejecución: \", time.time() -t)\n",
        "print(\"Finaliza la ejecución\")"
      ],
      "execution_count": 6,
      "outputs": [
        {
          "output_type": "stream",
          "name": "stdout",
          "text": [
            "Calcula el cuadrado de los números\n",
            "Calcula el cubo de los números\n",
            "cuadrado: 0\n",
            "cubo: 0\n",
            "cuadrado: 1\n",
            "cubo: 1\n",
            "cuadrado: 4\n",
            "cubo: 8\n",
            "cuadrado: 9\n",
            "cubo: 27\n",
            "cuadrado: 16\n",
            "cubo: 64\n",
            "Tiempo de ejecución:  1.043581247329712\n",
            "Finaliza la ejecución\n"
          ]
        }
      ]
    },
    {
      "cell_type": "markdown",
      "metadata": {
        "id": "xKe7Lh5LL_K8"
      },
      "source": [
        "#**Identificadores pid, ppid**\n",
        "\n",
        "Identificadores del proceso hijo y padre.\n",
        "\n",
        "1.   El proceso padre sera el que lo esta ejecutando."
      ]
    },
    {
      "cell_type": "code",
      "metadata": {
        "colab": {
          "base_uri": "https://localhost:8080/"
        },
        "id": "rd1JCZKjMRz2",
        "outputId": "addbb21d-dc90-447a-87e1-a3fe6ea918e4"
      },
      "source": [
        "import os\n",
        "print('module name:', __name__)\n",
        "print('parent process:', os.getppid())\n",
        "print('process id:', os.getpid())"
      ],
      "execution_count": 7,
      "outputs": [
        {
          "output_type": "stream",
          "name": "stdout",
          "text": [
            "module name: __main__\n",
            "parent process: 51\n",
            "process id: 63\n"
          ]
        }
      ]
    },
    {
      "cell_type": "code",
      "metadata": {
        "colab": {
          "base_uri": "https://localhost:8080/"
        },
        "id": "ZyQ61OU2MV_P",
        "outputId": "68912f49-3575-4b3a-cb66-6e1405942f66"
      },
      "source": [
        "from multiprocessing import Process\n",
        "import os\n",
        "\n",
        "def info(titulo):\n",
        "  print(titulo)\n",
        "  print('module name', __name__)\n",
        "  print('parent process', os.getppid()) # Proceso que lo ejecuta\n",
        "  print('process id:', os.getpid()) # El propio proceso  \n",
        "\n",
        "def f(nombre):\n",
        "  info('function f')\n",
        "  print('hello', nombre)\n",
        "  print('-----')\n",
        "\n",
        "info('Primera linea')\n",
        "p = Process(target=f, args=('oscar',))\n",
        "p.start()\n",
        "p.join()"
      ],
      "execution_count": 8,
      "outputs": [
        {
          "output_type": "stream",
          "name": "stdout",
          "text": [
            "Primera linea\n",
            "module name __main__\n",
            "parent process 51\n",
            "process id: 63\n",
            "function f\n",
            "module name __main__\n",
            "parent process 63\n",
            "process id: 291\n",
            "hello oscar\n",
            "-----\n"
          ]
        }
      ]
    },
    {
      "cell_type": "markdown",
      "metadata": {
        "id": "RTGHmmsOMi4E"
      },
      "source": [
        "# **Visibilidad variables**\n",
        "Cuando creamos un proceso hijo, el sistema operativo le sede algunos recuros, le ofrece el código, copia completamente todo el código tanto de un proceso padre como uno hijo y el espacio de memoria. se puede tener memoria distribuída\n",
        "\n",
        "Esto nos permite una visibilidad de las variables, ya que se copia el mismo código."
      ]
    },
    {
      "cell_type": "code",
      "metadata": {
        "colab": {
          "base_uri": "https://localhost:8080/"
        },
        "id": "LOtj_xXLNQPL",
        "outputId": "eebbcaee-e03a-499c-88de-1806648b8bcd"
      },
      "source": [
        "import multiprocessing as mp\n",
        "import time\n",
        "\n",
        "\n",
        "nums_res = []\n",
        "\n",
        "def calc_cuad(numeros):\n",
        "    # Vista por proceso hijo\n",
        "    # Ver variables fuera de la funcion, debido que se copia el codigo \n",
        "    # del padre\n",
        "    global nums_res\n",
        "    for n in numeros:\n",
        "        print('cuadrado:', n * n )\n",
        "        nums_res.append(n * n)\n",
        "        print(\"Resultado del proceso:\", nums_res)\n",
        "\n",
        "\n",
        "nums = range(10)\n",
        "\n",
        "t = time.time()\n",
        "p1 = mp.Process(target=calc_cuad, args=(nums,))\n",
        "\n",
        "p1.start()\n",
        "p1.join()\n",
        "print(\"Fuera del proceso:\", nums_res)\n",
        "\n",
        "print(\"Tiempo de ejecución: \", time.time()-t)\n",
        "print(\"Resultado del proceso:\", nums_res)\n",
        "print(\"Finaliza ejecución\")"
      ],
      "execution_count": 9,
      "outputs": [
        {
          "output_type": "stream",
          "name": "stdout",
          "text": [
            "cuadrado: 0\n",
            "Resultado del proceso: [0]\n",
            "cuadrado: 1\n",
            "Resultado del proceso: [0, 1]\n",
            "cuadrado: 4\n",
            "Resultado del proceso: [0, 1, 4]\n",
            "cuadrado: 9\n",
            "Resultado del proceso: [0, 1, 4, 9]\n",
            "cuadrado: 16\n",
            "Resultado del proceso: [0, 1, 4, 9, 16]\n",
            "cuadrado: 25\n",
            "Resultado del proceso: [0, 1, 4, 9, 16, 25]\n",
            "cuadrado: 36\n",
            "Resultado del proceso: [0, 1, 4, 9, 16, 25, 36]\n",
            "cuadrado: 49\n",
            "Resultado del proceso: [0, 1, 4, 9, 16, 25, 36, 49]\n",
            "cuadrado: 64\n",
            "Resultado del proceso: [0, 1, 4, 9, 16, 25, 36, 49, 64]\n",
            "cuadrado: 81\n",
            "Resultado del proceso: [0, 1, 4, 9, 16, 25, 36, 49, 64, 81]\n",
            "Fuera del proceso: []\n",
            "Tiempo de ejecución:  0.07750415802001953\n",
            "Resultado del proceso: []\n",
            "Finaliza ejecución\n"
          ]
        }
      ]
    }
  ]
}