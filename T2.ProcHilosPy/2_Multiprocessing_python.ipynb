{
  "nbformat": 4,
  "nbformat_minor": 0,
  "metadata": {
    "colab": {
      "name": "2-Multiprocessing-python.ipynb",
      "provenance": []
    },
    "kernelspec": {
      "name": "python3",
      "display_name": "Python 3"
    },
    "language_info": {
      "name": "python"
    }
  },
  "cells": [
    {
      "cell_type": "markdown",
      "metadata": {
        "id": "RftW3PY95VJB"
      },
      "source": [
        "# **Multiprocessing**\n",
        "La librería `multiprocessing` nos permite crear procesos en Python."
      ]
    },
    {
      "cell_type": "code",
      "metadata": {
        "id": "rcszi73-5GMp"
      },
      "source": [
        "import multiprocessing"
      ],
      "execution_count": 1,
      "outputs": []
    },
    {
      "cell_type": "markdown",
      "metadata": {
        "id": "4zbxCgze5rgs"
      },
      "source": [
        "Con el método `cpu_count` se muestra el número de procesadores que se tienen."
      ]
    },
    {
      "cell_type": "code",
      "metadata": {
        "colab": {
          "base_uri": "https://localhost:8080/"
        },
        "id": "-PrYTJ9l50Rt",
        "outputId": "0c98de16-7c77-4d56-8b27-9239aa6b9766"
      },
      "source": [
        "multiprocessing.cpu_count()"
      ],
      "execution_count": 2,
      "outputs": [
        {
          "output_type": "execute_result",
          "data": {
            "text/plain": [
              "2"
            ]
          },
          "metadata": {},
          "execution_count": 2
        }
      ]
    },
    {
      "cell_type": "markdown",
      "metadata": {
        "id": "OsOGvjn75-LF"
      },
      "source": [
        "Se pueden generar varios procesos, cada proceso demanda recursos (memoria).\n",
        "\n",
        "Para acceder a los identitificadores del proceso actual se usa `current_process`()."
      ]
    },
    {
      "cell_type": "code",
      "metadata": {
        "colab": {
          "base_uri": "https://localhost:8080/"
        },
        "id": "UyJrlLVV6Zip",
        "outputId": "692f82d2-9964-48b7-cae9-54cdd9684510"
      },
      "source": [
        "print(multiprocessing.current_process().pid)"
      ],
      "execution_count": 4,
      "outputs": [
        {
          "output_type": "stream",
          "name": "stdout",
          "text": [
            "66\n"
          ]
        }
      ]
    },
    {
      "cell_type": "code",
      "metadata": {
        "colab": {
          "base_uri": "https://localhost:8080/"
        },
        "id": "GZd5gFm06eOd",
        "outputId": "897106ba-41fa-40aa-f511-329b78fc38d0"
      },
      "source": [
        "import time\n",
        "import os\n",
        "\n",
        "def tarea_hijo():\n",
        "    print('Proceso hijo con PID {}'.format(multiprocessing.current_process().pid))\n",
        "    time.sleep(3)\n",
        "    print('Fin del proceso hijo')\n",
        "\n",
        "def main():\n",
        "    print('Proceso padre con PID {}'.format(multiprocessing.current_process().pid))\n",
        "    mi_proceso = multiprocessing.Process(target=tarea_hijo)\n",
        "    mi_proceso.start() # Iniciar tarea\n",
        "    mi_proceso.join() # Esperar a que termine el proceso hijo    \n",
        "    print('Fin del proceso padre')\n",
        "    \n",
        "main()"
      ],
      "execution_count": 5,
      "outputs": [
        {
          "output_type": "stream",
          "name": "stdout",
          "text": [
            "Proceso padre con PID 66\n",
            "Proceso hijo con PID 155\n",
            "Fin del proceso hijo\n",
            "Fin del proceso padre\n"
          ]
        }
      ]
    },
    {
      "cell_type": "markdown",
      "metadata": {
        "id": "9tA-b19y6x6m"
      },
      "source": [
        "Es posible asignar un nombre a un proceso hijo que ha sido creado, por medio del argumento `name` se asigna el nombre del proceso hijo."
      ]
    },
    {
      "cell_type": "code",
      "metadata": {
        "colab": {
          "base_uri": "https://localhost:8080/"
        },
        "id": "1wBHBzgY665r",
        "outputId": "b165becc-26af-4411-ffb9-34a97cc18ded"
      },
      "source": [
        "def mi_proceso():\n",
        "    print('Proceso con nombre: {}'.format(multiprocessing.current_process().name))\n",
        "\n",
        "# Usando main para la tarea del padre\n",
        "def main():\n",
        "    p_hijo = multiprocessing.Process(target=mi_proceso, name=\"Proceso_LCD_CC\")\n",
        "    p_hijo.start() # Lo inicio\n",
        "    p_hijo.join() # Espero que termine\n",
        "\n",
        "main()"
      ],
      "execution_count": 6,
      "outputs": [
        {
          "output_type": "stream",
          "name": "stdout",
          "text": [
            "Proceso con nombre: Proceso_LCD_CC\n"
          ]
        }
      ]
    },
    {
      "cell_type": "markdown",
      "metadata": {
        "id": "YFUiBHr168MB"
      },
      "source": [
        "**Ejercicio**\n",
        "Crea tres procesos con nombre, cada proceso escribera su nombre, pid y el pid del padre."
      ]
    },
    {
      "cell_type": "code",
      "metadata": {
        "id": "cVW4tL1D7LOR"
      },
      "source": [
        "import os\n",
        "import multiprocessing as mp"
      ],
      "execution_count": 7,
      "outputs": []
    },
    {
      "cell_type": "code",
      "metadata": {
        "colab": {
          "base_uri": "https://localhost:8080/"
        },
        "id": "al9hT-fx7OlR",
        "outputId": "aa435979-116c-4c0a-de5d-9380ac2e4e3b"
      },
      "source": [
        "def show_name():\n",
        "    print(f'Proceso con nombre {multiprocessing.current_process().name}')\n",
        "    print(f'ID del Proceso: {os.getpid()}')\n",
        "    print(f'ID del Proceso padre: {os.getppid()}')\n",
        "    time.sleep(3)\n",
        "    print('Fin del proceso hijo')\n",
        "\n",
        "def main():\n",
        "    print('Proceso padre con PID {}'.format(multiprocessing.current_process().pid))\n",
        "    p1 = mp.Process(target=show_name, name='Israel')\n",
        "    p2 = mp.Process(target=show_name, name='Camila')\n",
        "    p3 = mp.Process(target=show_name, name='Isi')\n",
        "    \n",
        "    p1.start(); p2.start(); p3.start();\n",
        "    p1.join(); p2.join(); p3.join();\n",
        "    print('Fin del proceso padre')\n",
        "    \n",
        "main()"
      ],
      "execution_count": 8,
      "outputs": [
        {
          "output_type": "stream",
          "name": "stdout",
          "text": [
            "Proceso padre con PID 66\n",
            "Proceso con nombre Israel\n",
            "Proceso con nombre Camila\n",
            "ID del Proceso: 191\n",
            "ID del Proceso: 192\n",
            "ID del Proceso padre: 66\n",
            "Proceso con nombre Isi\n",
            "ID del Proceso: 199\n",
            "ID del Proceso padre: 66\n",
            "ID del Proceso padre: 66\n",
            "Fin del proceso hijo\n",
            "Fin del proceso hijo\n",
            "Fin del proceso hijo\n",
            "Fin del proceso padre\n"
          ]
        }
      ]
    },
    {
      "cell_type": "code",
      "metadata": {
        "id": "uDeztMPN7buw"
      },
      "source": [
        "# Ejemplo de escritura de nombres de proceso\n",
        "\n",
        "from multiprocessing import Process, current_process\n",
        "import time\n",
        "\n",
        "def f1():\n",
        "    pname = current\n",
        "    \n",
        "def f2():\n",
        "    \n",
        "\n",
        "# Devuelte al hilo de ejecucion \n",
        "join"
      ],
      "execution_count": null,
      "outputs": []
    },
    {
      "cell_type": "markdown",
      "metadata": {
        "id": "01P6_0ay7dd2"
      },
      "source": [
        "Se puede forzar la fnalización de un proceso hijo.\n",
        "\n",
        "Un proceso que está en ejecuación puede ser cancelado o interrumpido por medio de la función `terminate()`."
      ]
    },
    {
      "cell_type": "code",
      "metadata": {
        "colab": {
          "base_uri": "https://localhost:8080/"
        },
        "id": "uRB8GvZR75tu",
        "outputId": "4430d259-aec4-472c-c3ce-51de3064dabc"
      },
      "source": [
        "def tarea_proceso():\n",
        "    p_actual = multiprocessing.current_process()\n",
        "    print('Proceso hijo pd: {}'.format(p_actual.pid))\n",
        "    time.sleep(5)\n",
        "    print('Continua la ejecición')\n",
        "\n",
        "mi_proceso = multiprocessing.Process(target=tarea_proceso)\n",
        "mi_proceso.start()\n",
        "time.sleep(2)\n",
        "print('Proceso padre ha terminado, termina el proceso main')\n",
        "print('Proceso hijo termiando...')\n",
        "mi_proceso.terminate()\n",
        "print('Proceso hijo finalizo con exito')"
      ],
      "execution_count": 11,
      "outputs": [
        {
          "output_type": "stream",
          "name": "stdout",
          "text": [
            "Proceso hijo pd: 260\n",
            "Proceso padre ha terminado, termina el proceso main\n",
            "Proceso hijo termiando...\n",
            "Proceso hijo finalizo con exito\n"
          ]
        }
      ]
    },
    {
      "cell_type": "markdown",
      "metadata": {
        "id": "ENtaMo3U8QIk"
      },
      "source": [
        "**Comunicación entre procesos**\n",
        "\n",
        "En Python tenemos esta comunicación a travéz de mecanismos de comunicación:\n",
        "\n",
        "*   Pipes\n",
        "*   colas de comunicación\n",
        "\n",
        "La principal forma de comunicación entre porcesos con Python se llava acabo por medio de tuberías *pipes* y colas *queue*. Especificamente, brindan opciones de transmisión de mensajes para facilitar la comunicaión.\n"
      ]
    },
    {
      "cell_type": "code",
      "metadata": {
        "colab": {
          "base_uri": "https://localhost:8080/"
        },
        "id": "6YDh0OVy9mGC",
        "outputId": "ae62113f-3c00-446f-c8a5-a10f744ed20b"
      },
      "source": [
        "from multiprocessing import Process, Queue\n",
        "\n",
        "def worker(num, q):\n",
        "    print('Se pone en la cola ', num * num)\n",
        "    q.put(num * num)\n",
        "    \n",
        "if __name__ == '__main__':\n",
        "    my_queue = Queue()\n",
        "    p = Process(target=worker, args=(5, my_queue))\n",
        "    p.start()\n",
        "    p.join()\n",
        "    \n",
        "    print('Se lee de la cola: ', my_queue.get())"
      ],
      "execution_count": 12,
      "outputs": [
        {
          "output_type": "stream",
          "name": "stdout",
          "text": [
            "Se pone en la cola  25\n",
            "Se lee de la cola:  25\n"
          ]
        }
      ]
    },
    {
      "cell_type": "code",
      "metadata": {
        "colab": {
          "base_uri": "https://localhost:8080/"
        },
        "id": "LFIMl-EZ9sN5",
        "outputId": "5e7f4d01-e217-49ae-d88f-953d229d6190"
      },
      "source": [
        "print(\"asdf\")"
      ],
      "execution_count": 13,
      "outputs": [
        {
          "output_type": "stream",
          "name": "stdout",
          "text": [
            "asdf\n"
          ]
        }
      ]
    },
    {
      "cell_type": "markdown",
      "metadata": {
        "id": "iuRNRDQE9xEE"
      },
      "source": [
        "Tres procesos que pongan en la cola y el proceso padre lee de la cola:"
      ]
    },
    {
      "cell_type": "code",
      "metadata": {
        "colab": {
          "base_uri": "https://localhost:8080/"
        },
        "id": "F9UTv_wO94lT",
        "outputId": "2f183de6-3315-4613-a15d-51527b90daa6"
      },
      "source": [
        "from multiprocessing import Process, Queue, current_process \n",
        "\n",
        "def suma(a, b, q):\n",
        "    q.put(a + b)\n",
        "    \n",
        "def restar(a, b, q):\n",
        "    q.put(a - b)\n",
        "    \n",
        "def mult(a, b, q):\n",
        "    q.put(a * b)\n",
        "    \n",
        "if __name__ == '__main__':\n",
        "    my_queue = Queue()\n",
        "    a = 10\n",
        "    b = 5\n",
        "    p1 = Process(name='jim', target=suma, args=(a, b, my_queue))\n",
        "    p2 = Process(name='carlos', target=restar, args=(a, b, my_queue))\n",
        "    p3 = Process(name='juna', target=mult, args=(a, b, my_queue))\n",
        "    \n",
        "    p1.start(); p2.start(); p3.start();\n",
        "    p1.join(); p2.join(); p3.join();\n",
        "    \n",
        "    print(f'Suma de {a} + {b} = {my_queue.get()}')\n",
        "    print(f'Resta de {a} - {b} = {my_queue.get()}')\n",
        "    print(f'Multi de {a} * {b} = {my_queue.get()}')\n",
        "    \n",
        "    print('Fin del proceso padre')"
      ],
      "execution_count": 14,
      "outputs": [
        {
          "output_type": "stream",
          "name": "stdout",
          "text": [
            "Suma de 10 + 5 = 15\n",
            "Resta de 10 - 5 = 5\n",
            "Multi de 10 * 5 = 50\n",
            "Fin del proceso padre\n"
          ]
        }
      ]
    }
  ]
}